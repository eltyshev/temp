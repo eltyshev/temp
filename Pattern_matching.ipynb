{
 "cells": [
  {
   "cell_type": "code",
   "execution_count": 1,
   "metadata": {},
   "outputs": [
    {
     "name": "stdout",
     "output_type": "stream",
     "text": [
      "couldn't import doomish\n",
      "Couldn't import doom\n"
     ]
    }
   ],
   "source": [
    "import pandas as pd\n",
    "import numpy as np\n",
    "import matplotlib.pyplot as plt\n",
    "import seaborn as sns\n",
    "from tqdm import tqdm_notebook\n",
    "\n",
    "import os\n",
    "\n",
    "from collections import defaultdict\n",
    "\n",
    "%matplotlib inline\n",
    "\n",
    "pd.set_option('display.max_columns', 500)\n",
    "pd.options.display.float_format = '{:.6f}'.format\n",
    "\n",
    "import sys\n",
    "sys.path.append(\"/home/evgenii/Projects/spring_moved_2018/\")\n",
    "\n",
    "import gym\n",
    "from gym.wrappers import Monitor\n",
    "import gym_ple"
   ]
  },
  {
   "cell_type": "code",
   "execution_count": 2,
   "metadata": {},
   "outputs": [
    {
     "name": "stdout",
     "output_type": "stream",
     "text": [
      "\u001b[33mWARN: Environment '<class 'gym_ple.ple_env.PLEEnv'>' has deprecated methods '_step' and '_reset' rather than 'step' and 'reset'. Compatibility code invoked. Set _gym_disable_underscore_compat = True to disable this behavior.\u001b[0m\n"
     ]
    }
   ],
   "source": [
    "env = gym.make('FlappyBird-v0')"
   ]
  },
  {
   "cell_type": "code",
   "execution_count": 6,
   "metadata": {},
   "outputs": [
    {
     "data": {
      "text/plain": [
       "<matplotlib.image.AxesImage at 0x7f21a0706048>"
      ]
     },
     "execution_count": 6,
     "metadata": {},
     "output_type": "execute_result"
    },
    {
     "data": {
      "image/png": "[encoded data removed]",
      "text/plain": [
       "<Figure size 432x288 with 1 Axes>"
      ]
     },
     "metadata": {},
     "output_type": "display_data"
    }
   ],
   "source": [
    "import cv2\n",
    "from sklearn.cluster import DBSCAN\n",
    "from itertools import chain\n",
    "from skimage.io import imread\n",
    "\n",
    "class PatternMatchCropper:\n",
    "    def __init__(self):\n",
    "        self.tube_pattern = self.__preprocess_image(imread(\"pics/pipe-green.png\")[:25])\n",
    "        self.inv_tube_pattern = np.flip(np.flip(self.tube_pattern, axis=0), axis=1)\n",
    "        self.birb_pattern = self.__preprocess_image(imread(\"pics/yellowbird-downflap.png\"))\n",
    "        \n",
    "    def __preprocess_image(self, image):\n",
    "        image = cv2.cvtColor(image, cv2.COLOR_BGR2GRAY)\n",
    "        return cv2.Canny(image, 50, 200)\n",
    "    \n",
    "    def __find_candidates(self, image, pattern):\n",
    "        image = self.__preprocess_image(image)\n",
    "        res = cv2.matchTemplate(image, pattern, cv2.TM_CCOEFF_NORMED)\n",
    "        \n",
    "        return np.where(res == res.max())\n",
    "    \n",
    "    def __aggregate_candidates(self, candidates):\n",
    "        dbscan = DBSCAN(min_samples=1, eps=1e1)\n",
    "        points = np.vstack(candidates).T\n",
    "        cluster_indices = dbscan.fit_predict(points)\n",
    "\n",
    "        matches = pd.DataFrame(points[np.where(cluster_indices != -1)])\n",
    "        matches[\"cluster\"] = cluster_indices[np.where(cluster_indices != -1)]\n",
    "\n",
    "        return np.flip(matches.groupby(\"cluster\").mean().values.astype(int), axis=1)\n",
    "    \n",
    "    def __specify_tube_matches(self, matches, pattern, is_top=True):\n",
    "        h, w = pattern.shape\n",
    "\n",
    "        def specify_coords(coords):\n",
    "            top_pt, bottom_pt = np.copy(coords), np.copy(coords)\n",
    "\n",
    "            bottom_pt[0] += w\n",
    "\n",
    "            if is_top:\n",
    "                bottom_pt[1] = 400\n",
    "            else:\n",
    "                top_pt[1] = 0\n",
    "                bottom_pt[1] += h\n",
    "\n",
    "            return tuple(top_pt), tuple(bottom_pt)\n",
    "\n",
    "        return list(map(specify_coords, matches))\n",
    "    \n",
    "    def __specify_birb_matches(self, matches, pattern):\n",
    "        h, w = pattern.shape\n",
    "\n",
    "        def specify_coords(coords):\n",
    "            top_pt, bottom_pt = np.copy(coords), np.copy(coords)\n",
    "\n",
    "            bottom_pt[0] += w\n",
    "            bottom_pt[1] += h\n",
    "\n",
    "            return tuple(top_pt), tuple(bottom_pt)\n",
    "\n",
    "        return list(map(specify_coords, matches))\n",
    "    \n",
    "    def __find_tubes(self, image):\n",
    "        cands = self.__find_candidates(image, self.tube_pattern)\n",
    "        matches = self.__aggregate_candidates(cands)\n",
    "        specified_matches = self.__specify_tube_matches(matches, self.tube_pattern, True)\n",
    "\n",
    "        inv_cands = self.__find_candidates(image, self.inv_tube_pattern)\n",
    "        inv_matches = self.__aggregate_candidates(inv_cands)\n",
    "        inv_specified_matches = self.__specify_tube_matches(inv_matches, self.inv_tube_pattern, False)\n",
    "\n",
    "        return chain(specified_matches, inv_specified_matches)\n",
    "\n",
    "    def __find_birb(self, image):\n",
    "        matches = self.__find_candidates(image, self.birb_pattern)\n",
    "        return self.__specify_birb_matches(np.flip(np.vstack(matches).T, axis=1), self.birb_pattern)\n",
    "\n",
    "    def __copy_regions(self, image, matches):\n",
    "        new_image = np.zeros_like(image)\n",
    "\n",
    "        for match in matches:\n",
    "            (y1, x1), (y2, x2) = match\n",
    "            new_image[x1:x2, y1:y2] = image[x1:x2, y1:y2]\n",
    "        return new_image\n",
    "    \n",
    "    def crop_image(self, image):\n",
    "        tube_matches = self.__find_tubes(image)\n",
    "        birb_matches = self.__find_birb(image)\n",
    "        matches = chain(tube_matches, birb_matches)\n",
    "        \n",
    "        return self.__copy_regions(image, matches)\n",
    "    \n",
    "pmc = PatternMatchCropper()\n",
    "cropped_image = pmc.crop_image(s)\n",
    "plt.imshow(cropped_image)"
   ]
  },
  {
   "cell_type": "code",
   "execution_count": 401,
   "metadata": {},
   "outputs": [
    {
     "name": "stdout",
     "output_type": "stream",
     "text": [
      "CPU times: user 179 ms, sys: 82.9 ms, total: 262 ms\n",
      "Wall time: 59.9 ms\n"
     ]
    },
    {
     "data": {
      "image/png": "[encoded data removed]",
      "text/plain": [
       "<Figure size 432x288 with 1 Axes>"
      ]
     },
     "metadata": {},
     "output_type": "display_data"
    }
   ],
   "source": [
    "%%time\n",
    "\n",
    "def find_candidates(image, pattern):\n",
    "    image_gray = cv2.cvtColor(image, cv2.COLOR_BGR2GRAY)\n",
    "    image_gray = cv2.Canny(image_gray, 50, 200)\n",
    "    pattern_gray = cv2.cvtColor(pattern, cv2.COLOR_BGR2GRAY)\n",
    "    pattern_gray = cv2.Canny(pattern_gray, 50, 200)\n",
    "    res = cv2.matchTemplate(image_gray,pattern_gray,cv2.TM_CCOEFF_NORMED)\n",
    "    threshold = 0.8\n",
    "    loc = np.where(res >= res.max())\n",
    "    \n",
    "    return loc\n",
    "\n",
    "def aggregate_candidates(candidates):\n",
    "    dbscan = DBSCAN(min_samples=1, eps=1e1)\n",
    "    points = np.vstack(candidates).T\n",
    "    cluster_indices = dbscan.fit_predict(points)\n",
    "    \n",
    "    matches = pd.DataFrame(points[np.where(cluster_indices != -1)])\n",
    "    matches[\"cluster\"] = cluster_indices[np.where(cluster_indices != -1)]\n",
    "    \n",
    "    return np.flip(matches.groupby(\"cluster\").mean().values.astype(int), axis=1)\n",
    "\n",
    "def specify_matches(matches, pattern, is_top=True):\n",
    "    pattern_gray = cv2.cvtColor(pattern, cv2.COLOR_RGB2GRAY)\n",
    "    h, w = pattern_gray.shape\n",
    "    \n",
    "    def specify_coords(coords):\n",
    "        top_pt, bottom_pt = np.copy(coords), np.copy(coords)\n",
    "        \n",
    "        bottom_pt[0] += w\n",
    "        \n",
    "        if is_top:\n",
    "            bottom_pt[1] = IMAGE_HEIGHT-BASE_HEIGHT\n",
    "        else:\n",
    "            top_pt[1] = 0\n",
    "            bottom_pt[1] += h\n",
    "            \n",
    "        return tuple(top_pt), tuple(bottom_pt)\n",
    "    \n",
    "    return list(map(specify_coords, matches))\n",
    "\n",
    "def specify_matches_birb(matches, pattern):\n",
    "    pattern_gray = cv2.cvtColor(pattern, cv2.COLOR_BGR2GRAY)\n",
    "    h, w = pattern_gray.shape\n",
    "    \n",
    "    def specify_coords(coords):\n",
    "        top_pt, bottom_pt = np.copy(coords), np.copy(coords)\n",
    "        \n",
    "        bottom_pt[0] += w\n",
    "        bottom_pt[1] += h\n",
    "            \n",
    "        return tuple(top_pt), tuple(bottom_pt)\n",
    "    \n",
    "    return list(map(specify_coords, matches))\n",
    "\n",
    "def draw_matches(image, matches):\n",
    "    image_copy = image.copy()\n",
    "    \n",
    "    for match in matches:\n",
    "        cv2.rectangle(image_copy, match[0], match[1], (255,255,255), 3)\n",
    "        \n",
    "    plt.imshow(image_copy)\n",
    "    \n",
    "def find_tubes(image, pattern, inv_pattern):\n",
    "    cands = find_candidates(image, pattern)\n",
    "    matches = aggregate_candidates(cands)\n",
    "    specified_matches = specify_matches(matches, pattern, True)\n",
    "    \n",
    "    inv_cands = find_candidates(image, inv_pattern)\n",
    "    inv_matches = aggregate_candidates(inv_cands)\n",
    "    inv_specified_matches = specify_matches(inv_matches, inv_pattern, False)\n",
    "    \n",
    "    return chain(specified_matches, inv_specified_matches)\n",
    "\n",
    "def find_birb(image, pattern):\n",
    "    matches = find_candidates(image, pattern)\n",
    "    return specify_matches_birb(np.flip(np.vstack(matches).T, axis=1), pattern)\n",
    "\n",
    "def copy_regions(image, matches):\n",
    "    new_image = np.zeros_like(image)\n",
    "    \n",
    "    for match in matches:\n",
    "        (y1, x1), (y2, x2) = match\n",
    "        new_image[x1:x2, y1:y2] = image[x1:x2, y1:y2]\n",
    "    return new_image\n",
    "    \n",
    "tube_matches = find_tubes(s, tube, inv_tube)\n",
    "birb_matches = find_birb(s, birb)\n",
    "matches = chain(tube_matches, birb_matches)\n",
    "#draw_matches(s, matches)\n",
    "plt.imshow(copy_regions(s, matches))"
   ]
  },
  {
   "cell_type": "code",
   "execution_count": 217,
   "metadata": {},
   "outputs": [
    {
     "data": {
      "text/plain": [
       "<matplotlib.image.AxesImage at 0x7f1294052cf8>"
      ]
     },
     "execution_count": 217,
     "metadata": {},
     "output_type": "execute_result"
    },
    {
     "data": {
      "image/png": "[encoded data removed]",
      "text/plain": [
       "<Figure size 432x288 with 1 Axes>"
      ]
     },
     "metadata": {},
     "output_type": "display_data"
    }
   ],
   "source": [
    "plt.imshow(s)"
   ]
  },
  {
   "cell_type": "code",
   "execution_count": 394,
   "metadata": {},
   "outputs": [
    {
     "name": "stdout",
     "output_type": "stream",
     "text": [
      "CPU times: user 106 ms, sys: 17.3 ms, total: 123 ms\n",
      "Wall time: 34.1 ms\n"
     ]
    },
    {
     "data": {
      "image/png": "[encoded data removed]",
      "text/plain": [
       "<Figure size 432x288 with 1 Axes>"
      ]
     },
     "metadata": {},
     "output_type": "display_data"
    }
   ],
   "source": [
    "%%time\n",
    "\n",
    "birb = imread(\"pics/yellowbird-downflap.png\")\n",
    "pattern = cv2.cvtColor(birb, cv2.COLOR_RGBA2RGB)\n",
    "\n",
    "def find_candidates(image, pattern):\n",
    "    image_gray = cv2.cvtColor(image, cv2.COLOR_RGB2GRAY)\n",
    "    image_gray = cv2.Canny(image_gray, 50, 200)\n",
    "    pattern_gray = cv2.cvtColor(pattern, cv2.COLOR_RGB2GRAY)\n",
    "    pattern_gray = cv2.Canny(pattern_gray, 50, 200)\n",
    "    res = cv2.matchTemplate(image_gray,pattern_gray,cv2.TM_CCORR_NORMED)\n",
    "    threshold = 0.6\n",
    "    loc = np.where(res >= res.max())\n",
    "    \n",
    "    return loc\n",
    "\n",
    "\n",
    "\n",
    "matches = find_candidates(s, pattern)\n",
    "matches = specify_matches(np.flip(np.vstack(matches).T, axis=1), pattern)\n",
    "\n",
    "draw_matches(s, matches)"
   ]
  },
  {
   "cell_type": "code",
   "execution_count": 24,
   "metadata": {
    "scrolled": true
   },
   "outputs": [
    {
     "data": {
      "text/plain": [
       "<matplotlib.image.AxesImage at 0x7f5d200453c8>"
      ]
     },
     "execution_count": 24,
     "metadata": {},
     "output_type": "execute_result"
    },
    {
     "data": {
      "image/png": "[encoded data removed]",
      "text/plain": [
       "<Figure size 720x360 with 2 Axes>"
      ]
     },
     "metadata": {},
     "output_type": "display_data"
    }
   ],
   "source": [
    "init_state = env.reset()\n",
    "\n",
    "for _ in range(30):\n",
    "    s, r, done, _ = env.step(env.action_space.sample())\n",
    "\n",
    "f, (ax1, ax2) = plt.subplots(1, 2, figsize=(10, 5))    \n",
    "\n",
    "ax1.imshow(s)\n",
    "cropped_image = pmc.crop_image(s)\n",
    "ax2.imshow(cropped_image)"
   ]
  },
  {
   "cell_type": "code",
   "execution_count": 5,
   "metadata": {},
   "outputs": [
    {
     "data": {
      "text/plain": [
       "<matplotlib.image.AxesImage at 0x7f5d21fdf978>"
      ]
     },
     "execution_count": 5,
     "metadata": {},
     "output_type": "execute_result"
    },
    {
     "data": {
      "image/png": "[encoded data removed]",
      "text/plain": [
       "<Figure size 432x288 with 1 Axes>"
      ]
     },
     "metadata": {},
     "output_type": "display_data"
    }
   ],
   "source": [
    "from croppers import PatternMatchCropper\n",
    "\n",
    "pmc = PatternMatchCropper()\n",
    "cropped_image = pmc.crop_image(s)\n",
    "plt.imshow(cropped_image)"
   ]
  },
  {
   "cell_type": "code",
   "execution_count": null,
   "metadata": {},
   "outputs": [],
   "source": []
  }
 ],
 "metadata": {
  "kernelspec": {
   "display_name": "Python 3 with tf",
   "language": "python",
   "name": "tf_py3_ipykernel"
  },
  "language_info": {
   "codemirror_mode": {
    "name": "ipython",
    "version": 3
   },
   "file_extension": ".py",
   "mimetype": "text/x-python",
   "name": "python",
   "nbconvert_exporter": "python",
   "pygments_lexer": "ipython3",
   "version": "3.6.5"
  }
 },
 "nbformat": 4,
 "nbformat_minor": 2
}
